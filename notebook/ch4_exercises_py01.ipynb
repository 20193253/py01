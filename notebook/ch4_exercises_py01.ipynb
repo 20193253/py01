{
  "nbformat": 4,
  "nbformat_minor": 0,
  "metadata": {
    "colab": {
      "name": "ch4_exercises_py01.ipynb",
      "provenance": [],
      "collapsed_sections": [],
      "toc_visible": true,
      "include_colab_link": true
    },
    "kernelspec": {
      "name": "python3",
      "display_name": "Python 3"
    }
  },
  "cells": [
    {
      "cell_type": "markdown",
      "metadata": {
        "id": "view-in-github",
        "colab_type": "text"
      },
      "source": [
        "<a href=\"https://colab.research.google.com/github/20193253/py01/blob/master/notebook/ch4_exercises_py01.ipynb\" target=\"_parent\"><img src=\"https://colab.research.google.com/assets/colab-badge.svg\" alt=\"Open In Colab\"/></a>"
      ]
    },
    {
      "cell_type": "markdown",
      "metadata": {
        "id": "ovY5jkD5dpxE",
        "colab_type": "text"
      },
      "source": [
        "## ch4_exercises.ipynb"
      ]
    },
    {
      "cell_type": "markdown",
      "metadata": {
        "id": "SZw6UnxQWYBe",
        "colab_type": "text"
      },
      "source": [
        "## Q1.\n",
        "> 주어진 자연수가 홀수인지 짝수인지 판별해 주는 함수(is_odd)를 작성해 보자.\n"
      ]
    },
    {
      "cell_type": "code",
      "metadata": {
        "id": "rUNNaqJPdg7B",
        "colab_type": "code",
        "colab": {}
      },
      "source": [
        "# [Q1] Code  \n",
        "\n",
        "def is_odd(num) :\n",
        "  if num > 0 :\n",
        "    if num % 2 == 0 :\n",
        "      print(\"짝수입니다\")\n",
        "    else :\n",
        "      print(\"홀수입니다\")\n",
        "  else :\n",
        "    print(\"자연수가 아닙니다\")"
      ],
      "execution_count": 0,
      "outputs": []
    },
    {
      "cell_type": "code",
      "metadata": {
        "id": "GF4CGL-_8kWv",
        "colab_type": "code",
        "outputId": "753e1614-d560-4a48-8f29-b0f4186a5a2e",
        "colab": {
          "base_uri": "https://localhost:8080/",
          "height": 102
        }
      },
      "source": [
        "is_odd(1)\n",
        "is_odd(2)\n",
        "is_odd(0)\n",
        "is_odd(-1)\n",
        "is_odd(-2)"
      ],
      "execution_count": 0,
      "outputs": [
        {
          "output_type": "stream",
          "text": [
            "홀수입니다\n",
            "짝수입니다\n",
            "자연수가 아닙니다\n",
            "자연수가 아닙니다\n",
            "자연수가 아닙니다\n"
          ],
          "name": "stdout"
        }
      ]
    },
    {
      "cell_type": "markdown",
      "metadata": {
        "colab_type": "text",
        "id": "re2-XrUYXF1m"
      },
      "source": [
        "## Q2.\n",
        "> 입력으로 들어오는 모든 수의 평균 값을 계산해 주는 함수를 작성해 보자. \n",
        "- (단 입력으로 들어오는 수의 개수는 정해져 있지 않다.)\n",
        "- ※ 평균 값을 구할 때 len 함수를 사용해 보자.\n"
      ]
    },
    {
      "cell_type": "code",
      "metadata": {
        "id": "t68JqDhrYU5b",
        "colab_type": "code",
        "colab": {}
      },
      "source": [
        "# [Q2] Code\n",
        "\n",
        "def cal_avg(*args) :\n",
        "  return sum(args) / len(args)"
      ],
      "execution_count": 0,
      "outputs": []
    },
    {
      "cell_type": "code",
      "metadata": {
        "id": "G8LQdCZCbvDd",
        "colab_type": "code",
        "outputId": "839f31d9-4b46-498e-aeb0-9460acc8a00f",
        "colab": {
          "base_uri": "https://localhost:8080/",
          "height": 51
        }
      },
      "source": [
        "print(cal_avg(13, 49, 51, 35, 44))\n",
        "print(cal_avg(99, 101, 26, 77, 49, 222))"
      ],
      "execution_count": 0,
      "outputs": [
        {
          "output_type": "stream",
          "text": [
            "38.4\n",
            "95.66666666666667\n"
          ],
          "name": "stdout"
        }
      ]
    },
    {
      "cell_type": "markdown",
      "metadata": {
        "colab_type": "text",
        "id": "UZy8lu_BXGnT"
      },
      "source": [
        "## Q3.\n",
        "> 다음은 두 개의 숫자를 입력받아 더하여 돌려주는 프로그램이다.\n",
        "\n",
        "```\n",
        "input1 = input(\"첫번째 숫자를 입력하세요:\")\n",
        "input2 = input(\"두번째 숫자를 입력하세요:\")\n",
        "\n",
        "total = input1 + input2\n",
        "print(\"두 수의 합은 %s 입니다\" % total)\n",
        "\n",
        "```\n",
        "---\n",
        "> 이 프로그램을 수행해 보자.\n",
        "\n",
        ">> 첫번째 숫자를 입력하세요:3  \n",
        ">> 두번째 숫자를 입력하세요:6\n",
        "- 두 수의 합은 36 입니다\n",
        "- 3과 6을 입력했을 때 9가 아닌 36이라는 결괏값을 돌려주었다.  \n",
        "이 프로그램의 오류를 수정해 보자."
      ]
    },
    {
      "cell_type": "code",
      "metadata": {
        "colab_type": "code",
        "id": "H9T_sXHzXGnW",
        "outputId": "67846f21-28b3-4bfc-a7d9-13e877d39d89",
        "colab": {
          "base_uri": "https://localhost:8080/",
          "height": 68
        }
      },
      "source": [
        "# [Q3] Code\n",
        "\n",
        "input1 = input(\"첫번째 숫자를 입력하세요:\") \n",
        "input2 = input(\"두번째 숫자를 입력하세요:\")\n",
        " \n",
        "total = input1 + input2\n",
        "print(\"두 수의 합은 %s 입니다\" % total)"
      ],
      "execution_count": 0,
      "outputs": [
        {
          "output_type": "stream",
          "text": [
            "첫번째 숫자를 입력하세요:3\n",
            "두번째 숫자를 입력하세요:6\n",
            "두 수의 합은 36 입니다\n"
          ],
          "name": "stdout"
        }
      ]
    },
    {
      "cell_type": "code",
      "metadata": {
        "id": "uHSDhBaGOc-D",
        "colab_type": "code",
        "outputId": "acb48601-678a-4763-c93f-6bb274b43dad",
        "colab": {
          "base_uri": "https://localhost:8080/",
          "height": 68
        }
      },
      "source": [
        "# 입력값은 언제나 문자열이다.\n",
        "\n",
        "print(type(input1))\n",
        "print(type(input2))\n",
        "\n",
        "# 그러므로 input1 + input2 는 문자열 연산이다.\n",
        "\n",
        "print(type(total))"
      ],
      "execution_count": 0,
      "outputs": [
        {
          "output_type": "stream",
          "text": [
            "<class 'str'>\n",
            "<class 'str'>\n",
            "<class 'str'>\n"
          ],
          "name": "stdout"
        }
      ]
    },
    {
      "cell_type": "code",
      "metadata": {
        "id": "Fc1QNfOGNKy-",
        "colab_type": "code",
        "outputId": "bcc207da-33de-4727-f8ef-4ea7da945b58",
        "colab": {
          "base_uri": "https://localhost:8080/",
          "height": 68
        }
      },
      "source": [
        "# 오류를 수정하려면 int() 함수를 사용하여 정수 타입으로 변환해야 한다.\n",
        "\n",
        "input1 = input(\"첫번째 숫자를 입력하세요:\")\n",
        "input2 = input(\"두번째 숫자를 입력하세요:\")\n",
        "\n",
        "total = int(input1) + int(input2)\n",
        "\n",
        "print(\"두 수의 합은 %s 입니다\" %  total)"
      ],
      "execution_count": 0,
      "outputs": [
        {
          "output_type": "stream",
          "text": [
            "첫번째 숫자를 입력하세요:3\n",
            "두번째 숫자를 입력하세요:6\n",
            "두 수의 합은 9 입니다\n"
          ],
          "name": "stdout"
        }
      ]
    },
    {
      "cell_type": "code",
      "metadata": {
        "id": "7aFWyYuBTTeW",
        "colab_type": "code",
        "outputId": "fa1741f6-2712-4eae-8fdf-3c4665ffa6bd",
        "colab": {
          "base_uri": "https://localhost:8080/",
          "height": 34
        }
      },
      "source": [
        "# total 역시 정수 타입으로 변환된 것을 확인할 수 있다.\n",
        "\n",
        "type(total)"
      ],
      "execution_count": 0,
      "outputs": [
        {
          "output_type": "execute_result",
          "data": {
            "text/plain": [
              "int"
            ]
          },
          "metadata": {
            "tags": []
          },
          "execution_count": 64
        }
      ]
    },
    {
      "cell_type": "markdown",
      "metadata": {
        "colab_type": "text",
        "id": "fqypxxqTXHY7"
      },
      "source": [
        "## Q4.\n",
        "> 다음 중 출력 결과가 다른 것 한 개를 골라 보자.\n",
        "\n",
        "```\n",
        "print(\"you\" \"need\" \"python\")\n",
        "print(\"you\"+\"need\"+\"python\")\n",
        "print(\"you\", \"need\", \"python\")\n",
        "print(\"\".join([\"you\", \"need\", \"python\"]))\n",
        "```"
      ]
    },
    {
      "cell_type": "code",
      "metadata": {
        "id": "8-43WMDjd44m",
        "colab_type": "code",
        "outputId": "fd3d0485-d8fe-4d62-8a67-28eb70c41852",
        "colab": {
          "base_uri": "https://localhost:8080/",
          "height": 51
        }
      },
      "source": [
        "# [Q4] Code\n",
        "\n",
        "# 1. 문자열 연산\n",
        "\n",
        "# 큰따옴표로 둘러싸인 문장은 문자열의 '+' 연산과 동일하다.\n",
        "# 제시된 문자열을 더하여 확장된 결괏값이 출력된다.\n",
        "\n",
        "print(\"you\" \"need\" \"python\")\n",
        "print(\"you\" + \"need\" + \"python\")"
      ],
      "execution_count": 0,
      "outputs": [
        {
          "output_type": "stream",
          "text": [
            "youneedpython\n",
            "youneedpython\n"
          ],
          "name": "stdout"
        }
      ]
    },
    {
      "cell_type": "code",
      "metadata": {
        "id": "eCzExn2tfJa7",
        "colab_type": "code",
        "outputId": "3d504078-6c6c-45d4-8ceb-7b9665f85575",
        "colab": {
          "base_uri": "https://localhost:8080/",
          "height": 34
        }
      },
      "source": [
        "# 2. 리스트를 문자열로 변환 \n",
        "\n",
        "# join() 사용 시 특정 구분자(\"\") 와 함께 문자열로 변환되어 출력\n",
        "\n",
        "print(\"\".join([\"you\", \"need\", \"python\"])) # [\"you\", \"need\", \"python\"] : 문자열을 요소로 가지는 리스트\n",
        "\n",
        "# 띄어쓰기를 포함하여 출력할 경우\n",
        "\n",
        "# print(\" \".join([\"you\", \"need\", \"python\"]))"
      ],
      "execution_count": 0,
      "outputs": [
        {
          "output_type": "stream",
          "text": [
            "youneedpython\n"
          ],
          "name": "stdout"
        }
      ]
    },
    {
      "cell_type": "code",
      "metadata": {
        "id": "LjpUnES2gbGl",
        "colab_type": "code",
        "outputId": "a7fade24-42f5-46ae-a8c0-98afb4d69491",
        "colab": {
          "base_uri": "https://localhost:8080/",
          "height": 34
        }
      },
      "source": [
        "# 3. 문자열 띄어쓰기\n",
        "\n",
        "# 문자열 띄어쓰기는 ',' 를 사용한다.\n",
        "\n",
        "print(\"you\", \"need\", \"python\")\n",
        "\n",
        "# 따라서 출력결과가 다른 것 하나는 띄어쓰기가 된 위 문장이다."
      ],
      "execution_count": 0,
      "outputs": [
        {
          "output_type": "stream",
          "text": [
            "you need python\n"
          ],
          "name": "stdout"
        }
      ]
    },
    {
      "cell_type": "markdown",
      "metadata": {
        "colab_type": "text",
        "id": "NKsvciXZXIL-"
      },
      "source": [
        "## Q5.\n",
        "> 다음은 \"test.txt\"라는 파일에 \"Life is too short\" 문자열을 저장한 후 다시 그 파일을 읽어서 출력하는 프로그램이다.\n",
        "\n",
        "```\n",
        "f1 = open(\"test.txt\", 'w')\n",
        "f1.write(\"Life is too short\")\n",
        "\n",
        "f2 = open(\"test.txt\", 'r')\n",
        "print(f2.read())\n",
        "\n",
        "```\n",
        ">> 이 프로그램은 우리가 예상한 \"Life is too short\"라는 문장을 출력하지 않는다.\n",
        "\n",
        ">> 우리가 예상한 값을 출력할 수 있도록 프로그램을 수정해 보자."
      ]
    },
    {
      "cell_type": "code",
      "metadata": {
        "id": "Jtp8r8sykFJ-",
        "colab_type": "code",
        "colab": {}
      },
      "source": [
        "# [Q5] Code\n",
        "\n",
        "# 1. close() 사용\n",
        "\n",
        "f1 = open(\"test.txt\", 'w')\n",
        "\n",
        "f1. write(\"Life is too short\")\n",
        "\n",
        "f1.close()"
      ],
      "execution_count": 0,
      "outputs": []
    },
    {
      "cell_type": "code",
      "metadata": {
        "id": "_RiES-Gl4af0",
        "colab_type": "code",
        "colab": {}
      },
      "source": [
        "# 2. with 사용\n",
        "\n",
        "with open(\"test.txt\", \"w\") as f2 :\n",
        "  f2.write(\"Life is too short\")"
      ],
      "execution_count": 0,
      "outputs": []
    },
    {
      "cell_type": "code",
      "metadata": {
        "id": "yX-petuW5OdH",
        "colab_type": "code",
        "colab": {
          "base_uri": "https://localhost:8080/",
          "height": 34
        },
        "outputId": "1e5829c2-9f62-40c4-b856-b694657b2985"
      },
      "source": [
        "f3 = open(\"test.txt\", 'r')\n",
        "\n",
        "print(f3.read())\n",
        "\n",
        "f3.close()"
      ],
      "execution_count": 133,
      "outputs": [
        {
          "output_type": "stream",
          "text": [
            "Life is too short\n"
          ],
          "name": "stdout"
        }
      ]
    },
    {
      "cell_type": "markdown",
      "metadata": {
        "colab_type": "text",
        "id": "-3KHtOOoXJBV"
      },
      "source": [
        "## Q6.\n",
        "> 사용자의 입력을 파일(test.txt)에 저장하는 프로그램을 작성해 보자. \n",
        "- (단 프로그램을 다시 실행하더라도 기존에 작성한 내용을 유지하고 새로 입력한 내용을 추가해야 한다.)\n"
      ]
    },
    {
      "cell_type": "code",
      "metadata": {
        "colab_type": "code",
        "id": "AjYR0lUaXJBa",
        "outputId": "5dc25334-0919-4493-d796-41aa8f87eeea",
        "colab": {
          "base_uri": "https://localhost:8080/",
          "height": 34
        }
      },
      "source": [
        "# [Q6] Code\n",
        "\n",
        "user_data = input(\"데이터를 입력하세요 : \")\n",
        "\n",
        "f4 = open(\"test.txt\", 'a')\n",
        "\n",
        "f4.write(\"\\n\")\n",
        "f4.write(user_data)\n",
        "\n",
        "f4.close()"
      ],
      "execution_count": 134,
      "outputs": [
        {
          "output_type": "stream",
          "text": [
            "데이터를 입력하세요 : data\n"
          ],
          "name": "stdout"
        }
      ]
    },
    {
      "cell_type": "code",
      "metadata": {
        "id": "dufxexZfs-YX",
        "colab_type": "code",
        "outputId": "74f708f4-21a1-4073-d146-92d75e7aa36b",
        "colab": {
          "base_uri": "https://localhost:8080/",
          "height": 51
        }
      },
      "source": [
        "f5 = open(\"test.txt\", 'r')\n",
        "\n",
        "print(f5.read())\n",
        "\n",
        "f5.close()"
      ],
      "execution_count": 136,
      "outputs": [
        {
          "output_type": "stream",
          "text": [
            "Life is too short\n",
            "data\n"
          ],
          "name": "stdout"
        }
      ]
    },
    {
      "cell_type": "markdown",
      "metadata": {
        "colab_type": "text",
        "id": "YrS3b88QbmKo"
      },
      "source": [
        "## Q7.\n",
        "> 다음과 같은 내용을 지닌 파일 foo1.txt가 있다. 이 파일의 내용 중 \"java\"라는 문자열을 \"python\"으로 바꾸어서 저장해 보자.\n",
        "\n",
        ">> Life is too short  \n",
        ">> you need java\n",
        "\n",
        "- ※ replace 함수를 사용해 보자.\n"
      ]
    },
    {
      "cell_type": "code",
      "metadata": {
        "colab_type": "code",
        "id": "Ll_2InMWbmKq",
        "colab": {}
      },
      "source": [
        "# [Q7] Code-1\n",
        "\n",
        "f6 = open(\"foo1.txt\", 'w')\n",
        "\n",
        "f6.write(\"Life is too short\\nyou need java\")\n",
        "\n",
        "f6.close()"
      ],
      "execution_count": 0,
      "outputs": []
    },
    {
      "cell_type": "code",
      "metadata": {
        "id": "zn0rquxtzoFn",
        "colab_type": "code",
        "colab": {}
      },
      "source": [
        "f7 = open(\"foo1.txt\", 'r')\n",
        "\n",
        "data = f7.read()\n",
        "\n",
        "replace_data = data.replace(\"java\", \"python\")"
      ],
      "execution_count": 0,
      "outputs": []
    },
    {
      "cell_type": "code",
      "metadata": {
        "id": "yQIvz8I80pem",
        "colab_type": "code",
        "colab": {}
      },
      "source": [
        "f8 = open(\"foo1.txt\", 'w')\n",
        "\n",
        "f8.write(replace_data)\n",
        "\n",
        "f8.close()"
      ],
      "execution_count": 0,
      "outputs": []
    },
    {
      "cell_type": "code",
      "metadata": {
        "id": "7Y_6irx401Zp",
        "colab_type": "code",
        "outputId": "848b54fc-9b68-435e-efeb-5dedaacc02d6",
        "colab": {
          "base_uri": "https://localhost:8080/",
          "height": 51
        }
      },
      "source": [
        "f9 = open(\"foo1.txt\", 'r')\n",
        "\n",
        "print(f9.read())"
      ],
      "execution_count": 141,
      "outputs": [
        {
          "output_type": "stream",
          "text": [
            "Life is too short\n",
            "you need python\n"
          ],
          "name": "stdout"
        }
      ]
    },
    {
      "cell_type": "markdown",
      "metadata": {
        "id": "2ljBDShkbqZO",
        "colab_type": "text"
      },
      "source": [
        "## 코딩 연습 결과를 github에 올리기\n",
        "> 완성된 ipython 노트북 파일을 각자의 github에 올리시오.\n",
        "\n",
        "- github 계정 만들기 (계정이 없는 학생)\n",
        "    1. github에 sign up (Google gmail 계정을 이용해서 만드시오.)\n",
        "- github에 노트 올리기\n",
        "    2. github에 각자의 id로 repo를 만드시오. (한번 만들면 계속 재사용)\n",
        "    3. github repo에 연습결과 노트를 올리시오.\n",
        "        - 제출노트: ch4_exercises_id.ipynb\n"
      ]
    },
    {
      "cell_type": "code",
      "metadata": {
        "id": "OnCR-YNCc8B6",
        "colab_type": "code",
        "colab": {}
      },
      "source": [
        ""
      ],
      "execution_count": 0,
      "outputs": []
    }
  ]
}