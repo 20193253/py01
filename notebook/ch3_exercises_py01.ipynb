{
  "nbformat": 4,
  "nbformat_minor": 0,
  "metadata": {
    "colab": {
      "name": "ch3_exercises_py01.ipynb",
      "provenance": [],
      "collapsed_sections": [],
      "include_colab_link": true
    },
    "kernelspec": {
      "name": "python3",
      "display_name": "Python 3"
    }
  },
  "cells": [
    {
      "cell_type": "markdown",
      "metadata": {
        "id": "view-in-github",
        "colab_type": "text"
      },
      "source": [
        "<a href=\"https://colab.research.google.com/github/20193253/py01/blob/master/notebook/ch3_exercises_py01.ipynb\" target=\"_parent\"><img src=\"https://colab.research.google.com/assets/colab-badge.svg\" alt=\"Open In Colab\"/></a>"
      ]
    },
    {
      "cell_type": "markdown",
      "metadata": {
        "id": "ovY5jkD5dpxE",
        "colab_type": "text"
      },
      "source": [
        "## ch3_exercises.ipynb"
      ]
    },
    {
      "cell_type": "markdown",
      "metadata": {
        "id": "SZw6UnxQWYBe",
        "colab_type": "text"
      },
      "source": [
        "## Q1.\n",
        "> 다음 코드의 결괏값은 무엇일까?\n",
        "\n",
        "```\n",
        "a = \"Life is too short, you need python\"\n",
        "if \"wife\" in a: print(\"wife\")\n",
        "elif \"python\" in a and \"you\" not in a: print(\"python\")\n",
        "elif \"shirt\" not in a: print(\"shirt\")\n",
        "elif \"need\" in a: print(\"need\")\n",
        "else: print(\"none\")\n",
        "\n",
        "```"
      ]
    },
    {
      "cell_type": "code",
      "metadata": {
        "id": "rUNNaqJPdg7B",
        "colab_type": "code",
        "outputId": "91f82441-0f97-47b9-f809-d6d46ab0da08",
        "colab": {
          "base_uri": "https://localhost:8080/",
          "height": 34
        }
      },
      "source": [
        "# [Q1] Code  \n",
        "\n",
        "a = \"Life is too short, you need python\"\n",
        "if \"wife\" in a: print(\"wife\") # False : \"wife\" not in a\n",
        "elif \"python\" in a and \"you\" not in a: print(\"python\") # False : \"python\" in a, \"you\" in a # and 연산자 : 두 조건이 모두 True일 경우 True\n",
        "elif \"shirt\" not in a: print(\"shirt\") # True : \"shirt\" in a\n",
        "elif \"need\" in a: print(\"need\") # True : \"need\" in a\n",
        "else: print(\"none\")\n",
        "\n",
        "# 결괏값 : shirt\n",
        "# elif \"shirt\" not in a: print(\"shirt\") 에서 가장 먼저 True가 된다."
      ],
      "execution_count": 0,
      "outputs": [
        {
          "output_type": "stream",
          "text": [
            "shirt\n"
          ],
          "name": "stdout"
        }
      ]
    },
    {
      "cell_type": "markdown",
      "metadata": {
        "colab_type": "text",
        "id": "re2-XrUYXF1m"
      },
      "source": [
        "## Q2.\n",
        "> while문을 사용해 1부터 1000까지의 자연수 중 3의 배수의 합을 구해 보자.\n"
      ]
    },
    {
      "cell_type": "code",
      "metadata": {
        "colab_type": "code",
        "id": "5MBLUZ5WXF1q",
        "outputId": "e58a7204-df9c-4c18-bb43-13c02e33be61",
        "colab": {
          "base_uri": "https://localhost:8080/",
          "height": 34
        }
      },
      "source": [
        "# [Q2] Code\n",
        "\n",
        "num = 0\n",
        "sum = 0\n",
        "\n",
        "while num < 1000 :\n",
        "\n",
        "  num = num + 1\n",
        "\n",
        "  if num % 3 == 0 :\n",
        "    sum = sum + num\n",
        "\n",
        "print(sum)"
      ],
      "execution_count": 0,
      "outputs": [
        {
          "output_type": "stream",
          "text": [
            "166833\n"
          ],
          "name": "stdout"
        }
      ]
    },
    {
      "cell_type": "markdown",
      "metadata": {
        "colab_type": "text",
        "id": "UZy8lu_BXGnT"
      },
      "source": [
        "## Q3.\n",
        "> while문을 사용하여 다음과 같이 별(*)을 표시하는 프로그램을 작성해 보자.\n",
        "\n",
        "```\n",
        "*\n",
        "**\n",
        "***\n",
        "****\n",
        "*****\n",
        "\n",
        "```\n"
      ]
    },
    {
      "cell_type": "code",
      "metadata": {
        "colab_type": "code",
        "id": "H9T_sXHzXGnW",
        "outputId": "a372d194-1aeb-45bc-82d9-7431c0d021ca",
        "colab": {
          "base_uri": "https://localhost:8080/",
          "height": 102
        }
      },
      "source": [
        "# [Q3] Code\n",
        "\n",
        "star = 0\n",
        "\n",
        "while star < 5 :\n",
        "  star = star + 1\n",
        "  print(\"*\" * star)"
      ],
      "execution_count": 0,
      "outputs": [
        {
          "output_type": "stream",
          "text": [
            "*\n",
            "**\n",
            "***\n",
            "****\n",
            "*****\n"
          ],
          "name": "stdout"
        }
      ]
    },
    {
      "cell_type": "markdown",
      "metadata": {
        "colab_type": "text",
        "id": "fqypxxqTXHY7"
      },
      "source": [
        "## Q4.\n",
        "> for문을 사용해 1부터 100까지의 숫자를 출력해 보자.\n",
        "- 단순 for문 사용\n",
        "- 리스트 내포 사용"
      ]
    },
    {
      "cell_type": "code",
      "metadata": {
        "colab_type": "code",
        "id": "oQ5UnmayXHY-",
        "outputId": "ebb5f452-8ff7-4e76-ade2-eb0e8b16b2a3",
        "colab": {
          "base_uri": "https://localhost:8080/",
          "height": 1000
        }
      },
      "source": [
        "# [Q4] Code\n",
        "\n",
        "# 단순 for문 사용\n",
        "\n",
        "for num in range(1, 101) :\n",
        "  print (num)"
      ],
      "execution_count": 58,
      "outputs": [
        {
          "output_type": "stream",
          "text": [
            "1\n",
            "2\n",
            "3\n",
            "4\n",
            "5\n",
            "6\n",
            "7\n",
            "8\n",
            "9\n",
            "10\n",
            "11\n",
            "12\n",
            "13\n",
            "14\n",
            "15\n",
            "16\n",
            "17\n",
            "18\n",
            "19\n",
            "20\n",
            "21\n",
            "22\n",
            "23\n",
            "24\n",
            "25\n",
            "26\n",
            "27\n",
            "28\n",
            "29\n",
            "30\n",
            "31\n",
            "32\n",
            "33\n",
            "34\n",
            "35\n",
            "36\n",
            "37\n",
            "38\n",
            "39\n",
            "40\n",
            "41\n",
            "42\n",
            "43\n",
            "44\n",
            "45\n",
            "46\n",
            "47\n",
            "48\n",
            "49\n",
            "50\n",
            "51\n",
            "52\n",
            "53\n",
            "54\n",
            "55\n",
            "56\n",
            "57\n",
            "58\n",
            "59\n",
            "60\n",
            "61\n",
            "62\n",
            "63\n",
            "64\n",
            "65\n",
            "66\n",
            "67\n",
            "68\n",
            "69\n",
            "70\n",
            "71\n",
            "72\n",
            "73\n",
            "74\n",
            "75\n",
            "76\n",
            "77\n",
            "78\n",
            "79\n",
            "80\n",
            "81\n",
            "82\n",
            "83\n",
            "84\n",
            "85\n",
            "86\n",
            "87\n",
            "88\n",
            "89\n",
            "90\n",
            "91\n",
            "92\n",
            "93\n",
            "94\n",
            "95\n",
            "96\n",
            "97\n",
            "98\n",
            "99\n",
            "100\n"
          ],
          "name": "stdout"
        }
      ]
    },
    {
      "cell_type": "code",
      "metadata": {
        "id": "b9m5reYFHvGU",
        "colab_type": "code",
        "colab": {
          "base_uri": "https://localhost:8080/",
          "height": 54
        },
        "outputId": "739cad1c-8542-4cf8-dee7-50360a388b69"
      },
      "source": [
        "# 리스트 내포 사용\n",
        "\n",
        "result = [num for num in range(1, 101)]\n",
        "print(result)"
      ],
      "execution_count": 56,
      "outputs": [
        {
          "output_type": "stream",
          "text": [
            "[1, 2, 3, 4, 5, 6, 7, 8, 9, 10, 11, 12, 13, 14, 15, 16, 17, 18, 19, 20, 21, 22, 23, 24, 25, 26, 27, 28, 29, 30, 31, 32, 33, 34, 35, 36, 37, 38, 39, 40, 41, 42, 43, 44, 45, 46, 47, 48, 49, 50, 51, 52, 53, 54, 55, 56, 57, 58, 59, 60, 61, 62, 63, 64, 65, 66, 67, 68, 69, 70, 71, 72, 73, 74, 75, 76, 77, 78, 79, 80, 81, 82, 83, 84, 85, 86, 87, 88, 89, 90, 91, 92, 93, 94, 95, 96, 97, 98, 99, 100]\n"
          ],
          "name": "stdout"
        }
      ]
    },
    {
      "cell_type": "markdown",
      "metadata": {
        "colab_type": "text",
        "id": "NKsvciXZXIL-"
      },
      "source": [
        "## Q5.\n",
        "> A 학급에 총 10명의 학생이 있다. 이 학생들의 중간고사 점수는 다음과 같다.\n",
        "\n",
        "- [70, 60, 55, 75, 95, 90, 80, 80, 85, 100]\n",
        "\n",
        "- for문을 사용하여 A 학급의 평균 점수를 구해 보자."
      ]
    },
    {
      "cell_type": "code",
      "metadata": {
        "colab_type": "code",
        "id": "5MZQYOVjXIL_",
        "outputId": "12dd9af3-401a-428d-ad16-b67b8b343828",
        "colab": {
          "base_uri": "https://localhost:8080/",
          "height": 34
        }
      },
      "source": [
        "# [Q5] Code\n",
        "\n",
        "A = [70, 60, 55, 75, 95, 90, 80, 80, 85, 100]\n",
        "\n",
        "score = 0\n",
        "tot = 0\n",
        "\n",
        "for score in A :\n",
        "  tot = tot + score\n",
        "  avg = tot / len(A)\n",
        "\n",
        "print(\"A 학급의 평균 점수 :\", avg, \"점\")"
      ],
      "execution_count": 22,
      "outputs": [
        {
          "output_type": "stream",
          "text": [
            "A 학급의 평균 점수 : 79.0 점\n"
          ],
          "name": "stdout"
        }
      ]
    },
    {
      "cell_type": "markdown",
      "metadata": {
        "colab_type": "text",
        "id": "-3KHtOOoXJBV"
      },
      "source": [
        "## Q6.\n",
        "> 리스트 중에서 홀수에만 2를 곱하여 저장하는 다음 코드가 있다.\n",
        "```\n",
        "numbers = [1, 2, 3, 4, 5, 6, 7, 8, 9]\n",
        "result = []\n",
        "for n in numbers:\n",
        "    if n % 2 == 1:\n",
        "        result.append(n*2)\n",
        "```\n",
        "\n",
        "- 위 코드를 리스트 내포(list comprehension)를 사용하여 표현해 보자."
      ]
    },
    {
      "cell_type": "code",
      "metadata": {
        "colab_type": "code",
        "id": "AjYR0lUaXJBa",
        "outputId": "01d18320-09ed-4b1f-96a3-27776d3b2016",
        "colab": {
          "base_uri": "https://localhost:8080/",
          "height": 34
        }
      },
      "source": [
        "# [Q6] Code\n",
        "\n",
        "# numbers = [1, 2, 3, 4, 5, 6, 7, 8, 9]\n",
        "# result = []\n",
        "# for n in numbers:\n",
        "#     if n % 2 == 1:\n",
        "#         result.append(n*2)\n",
        "\n",
        "# print(result)\n",
        "\n",
        "numbers = [1, 2, 3, 4, 5, 6, 7, 8, 9]\n",
        "result = [n * 2 for n in numbers if n % 2 == 1]\n",
        "\n",
        "print(result)"
      ],
      "execution_count": 0,
      "outputs": [
        {
          "output_type": "stream",
          "text": [
            "[2, 6, 10, 14, 18]\n"
          ],
          "name": "stdout"
        }
      ]
    },
    {
      "cell_type": "markdown",
      "metadata": {
        "colab_type": "text",
        "id": "YrS3b88QbmKo"
      },
      "source": [
        "## Q7.\n",
        "> ## [Challenge] 응용 코드 : 평균 성적을 구하시오.\n",
        "```\n",
        "subjects = ['파이썬', '영어', '수학', '물리']\n",
        "scores = [91, 67, 88, 75]\n",
        "```\n",
        "\n",
        "- 평균 성적을 세가지 이상의 방법으로 구하시오."
      ]
    },
    {
      "cell_type": "code",
      "metadata": {
        "colab_type": "code",
        "id": "Ll_2InMWbmKq",
        "colab": {
          "base_uri": "https://localhost:8080/",
          "height": 136
        },
        "outputId": "febcd702-af45-453c-c8cb-a6713acab145"
      },
      "source": [
        "# [Q7] Code-1\n",
        "\n",
        "subjects = ['파이썬', '  영어', '  수학', '  물리']\n",
        "scores = [91, 67, 88, 75]\n",
        "\n",
        "print(\"과목명     점수\")\n",
        "\n",
        "for index in range(len(subjects)) :\n",
        "  print(subjects[index], \"%7s\" % scores[index])\n",
        "\n",
        "print(\"\\n평균 점수 : \", (sum(scores) / len(subjects)), \"점\")"
      ],
      "execution_count": 51,
      "outputs": [
        {
          "output_type": "stream",
          "text": [
            "과목명     점수\n",
            "파이썬      91\n",
            "  영어      67\n",
            "  수학      88\n",
            "  물리      75\n",
            "\n",
            "평균 점수 :  80.25 점\n"
          ],
          "name": "stdout"
        }
      ]
    },
    {
      "cell_type": "code",
      "metadata": {
        "colab_type": "code",
        "id": "1Yl74HZQcWkw",
        "colab": {
          "base_uri": "https://localhost:8080/",
          "height": 136
        },
        "outputId": "5a03e3ac-c3b9-4ce0-c2ec-90780871eec9"
      },
      "source": [
        "# [Q7] Code-2\n",
        "\n",
        "subjects = ['파이썬', '  영어', '  수학', '  물리']\n",
        "scores = [91, 67, 88, 75]\n",
        "\n",
        "tot = 0\n",
        "avg = 0\n",
        "\n",
        "print(\"과목명     점수\")\n",
        "for position, subject in enumerate(subjects) :\n",
        "  score = scores[position]\n",
        "  tot = tot + score\n",
        "  print(subject, \"%7s\" % score)\n",
        "\n",
        "print(\"\\n평균 점수 : {0}\".format(tot / len(scores)), \"점\")"
      ],
      "execution_count": 43,
      "outputs": [
        {
          "output_type": "stream",
          "text": [
            "과목명     점수\n",
            "파이썬      91\n",
            "  영어      67\n",
            "  수학      88\n",
            "  물리      75\n",
            "\n",
            "평균 점수 : 80.25 점\n"
          ],
          "name": "stdout"
        }
      ]
    },
    {
      "cell_type": "code",
      "metadata": {
        "colab_type": "code",
        "id": "POKZZo1KcW0Q",
        "colab": {
          "base_uri": "https://localhost:8080/",
          "height": 136
        },
        "outputId": "9bee8c6f-361a-4e09-8d46-8524e732a698"
      },
      "source": [
        "# [Q7] Code-3\n",
        "\n",
        "subjects = ['파이썬', '  영어', '  수학', '  물리']\n",
        "scores = [91, 67, 88, 75]\n",
        "\n",
        "tot = 0\n",
        "avg = 0\n",
        "\n",
        "print(\"과목명     점수\")\n",
        "\n",
        "for subject, score in zip(subjects, scores) :\n",
        "  tot = tot + score\n",
        "  print(subject, \"%7s\" % score)\n",
        "\n",
        "avg = tot / len(subjects)\n",
        "\n",
        "print(\"\\n평균 점수 : \", avg, \"점\")"
      ],
      "execution_count": 52,
      "outputs": [
        {
          "output_type": "stream",
          "text": [
            "과목명     점수\n",
            "파이썬      91\n",
            "  영어      67\n",
            "  수학      88\n",
            "  물리      75\n",
            "\n",
            "평균 점수 :  80.25 점\n"
          ],
          "name": "stdout"
        }
      ]
    },
    {
      "cell_type": "markdown",
      "metadata": {
        "id": "2ljBDShkbqZO",
        "colab_type": "text"
      },
      "source": [
        "## 코딩 연습 결과를 github에 올리기\n",
        "> 완성된 ipython 노트북 파일을 각자의 github에 올리시오.\n",
        "\n",
        "- github 계정 만들기 (계정이 없는 학생)\n",
        "    1. github에 sign up (Google gmail 계정을 이용해서 만드시오.)\n",
        "- github에 노트 올리기\n",
        "    2. github에 각자의 id로 repo를 만드시오. (한번 만들면 계속 재사용)\n",
        "    3. github repo에 연습결과 노트를 올리시오.\n",
        "        - 제출노트: ch3_exercises_id.ipynb\n"
      ]
    },
    {
      "cell_type": "code",
      "metadata": {
        "id": "OnCR-YNCc8B6",
        "colab_type": "code",
        "colab": {}
      },
      "source": [
        ""
      ],
      "execution_count": 0,
      "outputs": []
    }
  ]
}